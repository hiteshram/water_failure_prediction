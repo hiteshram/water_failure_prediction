{
  "nbformat": 4,
  "nbformat_minor": 0,
  "metadata": {
    "colab": {
      "name": "CPS Water Supply Failure Prediction.ipynb",
      "provenance": [],
      "collapsed_sections": [],
      "machine_shape": "hm"
    },
    "kernelspec": {
      "display_name": "Python 3",
      "name": "python3"
    },
    "language_info": {
      "name": "python"
    },
    "accelerator": "TPU"
  },
  "cells": [
    {
      "cell_type": "markdown",
      "metadata": {
        "id": "xnsd15GUlNC-"
      },
      "source": [
        "**Objective**\n",
        "<br>To leverage the real-time sensor data in detecting potential water supply failures and take quick action to reduce water usage disruption."
      ]
    },
    {
      "cell_type": "markdown",
      "metadata": {
        "id": "MTXm4sq8z2I8"
      },
      "source": [
        "Importing the necessary libraries"
      ]
    },
    {
      "cell_type": "code",
      "metadata": {
        "id": "0ecBEELblGkV"
      },
      "source": [
        "import pandas as pd\n",
        "import numpy as np\n",
        "import os\n",
        "import random\n",
        "from sklearn.model_selection import train_test_split\n",
        "from google.colab import drive"
      ],
      "execution_count": null,
      "outputs": []
    },
    {
      "cell_type": "code",
      "metadata": {
        "id": "4oiRhcquGIcK"
      },
      "source": [
        "def classifiers(X_gdata,Y_gdata):\n",
        "    import matplotlib.pyplot as plt\n",
        "    \n",
        "    knn_Accuracy = KNN(X_gdata,Y_gdata)\n",
        "    NB_Accuarcy = NB(X_gdata,Y_gdata)\n",
        "    SVM_Accuracy = SVM(X_gdata,Y_gdata)\n",
        "    DTree_Accuracy = DTree(X_gdata,Y_gdata)\n",
        "    RF_Accuracy = RF(X_gdata,Y_gdata)\n",
        "    Accuracy_list = [knn_Accuracy,NB_Accuarcy,SVM_Accuracy,DTree_Accuracy,RF_Accuracy] ##Storing all accuracies ##\n",
        "    Accuracy_list_names = ['KNN','NB','SVM','DT','RF'] \n",
        "    plt.bar(Accuracy_list_names,Accuracy_list,width=0.3) ##Plotting bar graph ##\n",
        "    plt.show()\n",
        "\n",
        "\n",
        "def KNN(X_gdata,Y_gdata):\n",
        "    from sklearn.model_selection import train_test_split\n",
        "    from sklearn.preprocessing import LabelEncoder\n",
        "    from sklearn.neighbors import KNeighborsClassifier\n",
        "    from sklearn.metrics import mean_squared_error\n",
        "    from math import sqrt\n",
        "    from sklearn.metrics import accuracy_score\n",
        "    encode_data = LabelEncoder()\n",
        "    (X_train, X_test, Y_train, Y_test) = train_test_split(X_gdata, Y_gdata, test_size=0.2)\n",
        "    y_gdata_prediction = encode_data.fit_transform(Y_gdata)\n",
        "    rmse = []\n",
        "    for k in range(20):\n",
        "        k = k + 1\n",
        "        knn = KNeighborsClassifier(n_neighbors=k)\n",
        "        knn.fit(X_gdata, y_gdata_prediction)\n",
        "        pred = knn.predict(X_gdata)\n",
        "        mean_error = mean_squared_error(y_gdata_prediction, pred)\n",
        "        rmse.append(sqrt(mean_error))\n",
        "        \n",
        "    knn = KNeighborsClassifier(n_neighbors=5)\n",
        "    knn.fit(X_train, Y_train)\n",
        "    knn_y_pred = knn.predict(X_test)\n",
        "    Accuracy = accuracy_score(Y_test, knn_y_pred)\n",
        "\n",
        "    return Accuracy\n",
        "\n",
        "def NB(X_gdata, Y_gdata):\n",
        "    from sklearn.model_selection import train_test_split\n",
        "    from sklearn.naive_bayes import GaussianNB\n",
        "    from sklearn.metrics import accuracy_score\n",
        "    (X_train, X_test, Y_train, Y_test) = train_test_split(X_gdata, Y_gdata, test_size=0.2)\n",
        "    naive_b = GaussianNB()\n",
        "    naive_b.fit(X_train,Y_train)\n",
        "    y_pred = naive_b.predict(X_test)\n",
        "    Accuracy = accuracy_score(Y_test,y_pred)\n",
        "\n",
        "    return Accuracy\n",
        "\n",
        "\n",
        "def SVM(X_gdata, Y_gdata):\n",
        "    from sklearn.model_selection import train_test_split\n",
        "    from sklearn import svm\n",
        "    from sklearn.metrics import accuracy_score\n",
        "    (X_train, X_test, Y_train, Y_test) = train_test_split(X_gdata, Y_gdata, test_size=0.2)\n",
        "    svm_c = svm.SVC()\n",
        "    svm_c.fit(X_train, Y_train)\n",
        "    y_pred = svm_c.predict(X_test)\n",
        "    Accuracy = accuracy_score(Y_test, y_pred)\n",
        "\n",
        "    return Accuracy\n",
        "\n",
        "def DTree(X_gdata,Y_gdata):\n",
        "    from sklearn.model_selection import train_test_split\n",
        "    from sklearn.tree import DecisionTreeClassifier\n",
        "    from sklearn.metrics import accuracy_score\n",
        "    (X_train, X_test, Y_train, Y_test) = train_test_split(X_gdata, Y_gdata, test_size=0.2)\n",
        "    decision_t = DecisionTreeClassifier()\n",
        "    decision_t.fit(X_train,Y_train)\n",
        "    y_pred = decision_t.predict(X_test)\n",
        "    Accuracy = accuracy_score(Y_test, y_pred)\n",
        "    return Accuracy\n",
        "\n",
        "def RF(X_gdata,Y_gdata):\n",
        "    from sklearn.model_selection import train_test_split\n",
        "    from sklearn.ensemble import RandomForestClassifier\n",
        "    from sklearn.metrics import accuracy_score\n",
        "    (X_train, X_test, Y_train, Y_test) = train_test_split(X_gdata, Y_gdata, test_size=0.2)\n",
        "    random_f = RandomForestClassifier()\n",
        "    random_f.fit(X_train,Y_train)\n",
        "    y_pred = random_f.predict(X_test)\n",
        "    Accuracy = accuracy_score(Y_test,y_pred)\n",
        "\n",
        "    return Accuracy "
      ],
      "execution_count": null,
      "outputs": []
    },
    {
      "cell_type": "code",
      "metadata": {
        "colab": {
          "base_uri": "https://localhost:8080/"
        },
        "id": "-F90La708pYp",
        "outputId": "c5a06f1a-ee8e-4353-eef0-0d84c3d5daa8"
      },
      "source": [
        "drive.mount('/content/drive')"
      ],
      "execution_count": null,
      "outputs": [
        {
          "output_type": "stream",
          "text": [
            "Mounted at /content/drive\n"
          ],
          "name": "stdout"
        }
      ]
    },
    {
      "cell_type": "code",
      "metadata": {
        "id": "PltQBJ1Tz6WF"
      },
      "source": [
        "file_path=os.path.join(os.getcwd(),'drive','MyDrive','Colab Notebooks','sensor.csv')\n",
        "input_df=pd.read_csv(file_path)\n"
      ],
      "execution_count": null,
      "outputs": []
    },
    {
      "cell_type": "markdown",
      "metadata": {
        "id": "urd9Wco29mAF"
      },
      "source": [
        "Exploratory Data Analysis"
      ]
    },
    {
      "cell_type": "code",
      "metadata": {
        "colab": {
          "base_uri": "https://localhost:8080/"
        },
        "id": "x1_xyd8P9lo3",
        "outputId": "bc76329b-3317-4f4f-b13e-5318a2ea65d1"
      },
      "source": [
        "print(input_df.shape)"
      ],
      "execution_count": null,
      "outputs": [
        {
          "output_type": "stream",
          "text": [
            "(220320, 55)\n"
          ],
          "name": "stdout"
        }
      ]
    },
    {
      "cell_type": "code",
      "metadata": {
        "colab": {
          "base_uri": "https://localhost:8080/"
        },
        "id": "Z2hRI7fR9XuM",
        "outputId": "def6f459-669c-4c79-90b2-1fea9d6c39aa"
      },
      "source": [
        "print(input_df.info())"
      ],
      "execution_count": null,
      "outputs": [
        {
          "output_type": "stream",
          "text": [
            "<class 'pandas.core.frame.DataFrame'>\n",
            "RangeIndex: 220320 entries, 0 to 220319\n",
            "Data columns (total 55 columns):\n",
            " #   Column          Non-Null Count   Dtype  \n",
            "---  ------          --------------   -----  \n",
            " 0   Unnamed: 0      220320 non-null  int64  \n",
            " 1   timestamp       220320 non-null  object \n",
            " 2   sensor_00       210112 non-null  float64\n",
            " 3   sensor_01       219951 non-null  float64\n",
            " 4   sensor_02       220301 non-null  float64\n",
            " 5   sensor_03       220301 non-null  float64\n",
            " 6   sensor_04       220301 non-null  float64\n",
            " 7   sensor_05       220301 non-null  float64\n",
            " 8   sensor_06       215522 non-null  float64\n",
            " 9   sensor_07       214869 non-null  float64\n",
            " 10  sensor_08       215213 non-null  float64\n",
            " 11  sensor_09       215725 non-null  float64\n",
            " 12  sensor_10       220301 non-null  float64\n",
            " 13  sensor_11       220301 non-null  float64\n",
            " 14  sensor_12       220301 non-null  float64\n",
            " 15  sensor_13       220301 non-null  float64\n",
            " 16  sensor_14       220299 non-null  float64\n",
            " 17  sensor_15       0 non-null       float64\n",
            " 18  sensor_16       220289 non-null  float64\n",
            " 19  sensor_17       220274 non-null  float64\n",
            " 20  sensor_18       220274 non-null  float64\n",
            " 21  sensor_19       220304 non-null  float64\n",
            " 22  sensor_20       220304 non-null  float64\n",
            " 23  sensor_21       220304 non-null  float64\n",
            " 24  sensor_22       220279 non-null  float64\n",
            " 25  sensor_23       220304 non-null  float64\n",
            " 26  sensor_24       220304 non-null  float64\n",
            " 27  sensor_25       220284 non-null  float64\n",
            " 28  sensor_26       220300 non-null  float64\n",
            " 29  sensor_27       220304 non-null  float64\n",
            " 30  sensor_28       220304 non-null  float64\n",
            " 31  sensor_29       220248 non-null  float64\n",
            " 32  sensor_30       220059 non-null  float64\n",
            " 33  sensor_31       220304 non-null  float64\n",
            " 34  sensor_32       220252 non-null  float64\n",
            " 35  sensor_33       220304 non-null  float64\n",
            " 36  sensor_34       220304 non-null  float64\n",
            " 37  sensor_35       220304 non-null  float64\n",
            " 38  sensor_36       220304 non-null  float64\n",
            " 39  sensor_37       220304 non-null  float64\n",
            " 40  sensor_38       220293 non-null  float64\n",
            " 41  sensor_39       220293 non-null  float64\n",
            " 42  sensor_40       220293 non-null  float64\n",
            " 43  sensor_41       220293 non-null  float64\n",
            " 44  sensor_42       220293 non-null  float64\n",
            " 45  sensor_43       220293 non-null  float64\n",
            " 46  sensor_44       220293 non-null  float64\n",
            " 47  sensor_45       220293 non-null  float64\n",
            " 48  sensor_46       220293 non-null  float64\n",
            " 49  sensor_47       220293 non-null  float64\n",
            " 50  sensor_48       220293 non-null  float64\n",
            " 51  sensor_49       220293 non-null  float64\n",
            " 52  sensor_50       143303 non-null  float64\n",
            " 53  sensor_51       204937 non-null  float64\n",
            " 54  machine_status  220320 non-null  object \n",
            "dtypes: float64(52), int64(1), object(2)\n",
            "memory usage: 92.5+ MB\n",
            "None\n"
          ],
          "name": "stdout"
        }
      ]
    },
    {
      "cell_type": "code",
      "metadata": {
        "colab": {
          "base_uri": "https://localhost:8080/",
          "height": 314
        },
        "id": "6ooCkNxH-Cv4",
        "outputId": "b4ced851-c1d4-486d-deba-dff8c771c5e8"
      },
      "source": [
        "input_df.describe()"
      ],
      "execution_count": null,
      "outputs": [
        {
          "output_type": "execute_result",
          "data": {
            "text/html": [
              "<div>\n",
              "<style scoped>\n",
              "    .dataframe tbody tr th:only-of-type {\n",
              "        vertical-align: middle;\n",
              "    }\n",
              "\n",
              "    .dataframe tbody tr th {\n",
              "        vertical-align: top;\n",
              "    }\n",
              "\n",
              "    .dataframe thead th {\n",
              "        text-align: right;\n",
              "    }\n",
              "</style>\n",
              "<table border=\"1\" class=\"dataframe\">\n",
              "  <thead>\n",
              "    <tr style=\"text-align: right;\">\n",
              "      <th></th>\n",
              "      <th>Unnamed: 0</th>\n",
              "      <th>sensor_00</th>\n",
              "      <th>sensor_01</th>\n",
              "      <th>sensor_02</th>\n",
              "      <th>sensor_03</th>\n",
              "      <th>sensor_04</th>\n",
              "      <th>sensor_05</th>\n",
              "      <th>sensor_06</th>\n",
              "      <th>sensor_07</th>\n",
              "      <th>sensor_08</th>\n",
              "      <th>sensor_09</th>\n",
              "      <th>sensor_10</th>\n",
              "      <th>sensor_11</th>\n",
              "      <th>sensor_12</th>\n",
              "      <th>sensor_13</th>\n",
              "      <th>sensor_14</th>\n",
              "      <th>sensor_15</th>\n",
              "      <th>sensor_16</th>\n",
              "      <th>sensor_17</th>\n",
              "      <th>sensor_18</th>\n",
              "      <th>sensor_19</th>\n",
              "      <th>sensor_20</th>\n",
              "      <th>sensor_21</th>\n",
              "      <th>sensor_22</th>\n",
              "      <th>sensor_23</th>\n",
              "      <th>sensor_24</th>\n",
              "      <th>sensor_25</th>\n",
              "      <th>sensor_26</th>\n",
              "      <th>sensor_27</th>\n",
              "      <th>sensor_28</th>\n",
              "      <th>sensor_29</th>\n",
              "      <th>sensor_30</th>\n",
              "      <th>sensor_31</th>\n",
              "      <th>sensor_32</th>\n",
              "      <th>sensor_33</th>\n",
              "      <th>sensor_34</th>\n",
              "      <th>sensor_35</th>\n",
              "      <th>sensor_36</th>\n",
              "      <th>sensor_37</th>\n",
              "      <th>sensor_38</th>\n",
              "      <th>sensor_39</th>\n",
              "      <th>sensor_40</th>\n",
              "      <th>sensor_41</th>\n",
              "      <th>sensor_42</th>\n",
              "      <th>sensor_43</th>\n",
              "      <th>sensor_44</th>\n",
              "      <th>sensor_45</th>\n",
              "      <th>sensor_46</th>\n",
              "      <th>sensor_47</th>\n",
              "      <th>sensor_48</th>\n",
              "      <th>sensor_49</th>\n",
              "      <th>sensor_50</th>\n",
              "      <th>sensor_51</th>\n",
              "    </tr>\n",
              "  </thead>\n",
              "  <tbody>\n",
              "    <tr>\n",
              "      <th>count</th>\n",
              "      <td>220320.000000</td>\n",
              "      <td>210112.000000</td>\n",
              "      <td>219951.000000</td>\n",
              "      <td>220301.000000</td>\n",
              "      <td>220301.000000</td>\n",
              "      <td>220301.000000</td>\n",
              "      <td>220301.000000</td>\n",
              "      <td>215522.000000</td>\n",
              "      <td>214869.000000</td>\n",
              "      <td>215213.000000</td>\n",
              "      <td>215725.000000</td>\n",
              "      <td>220301.000000</td>\n",
              "      <td>220301.000000</td>\n",
              "      <td>220301.000000</td>\n",
              "      <td>220301.000000</td>\n",
              "      <td>220299.000000</td>\n",
              "      <td>0.0</td>\n",
              "      <td>220289.000000</td>\n",
              "      <td>220274.000000</td>\n",
              "      <td>220274.000000</td>\n",
              "      <td>220304.000000</td>\n",
              "      <td>220304.000000</td>\n",
              "      <td>220304.000000</td>\n",
              "      <td>220279.000000</td>\n",
              "      <td>220304.000000</td>\n",
              "      <td>220304.000000</td>\n",
              "      <td>220284.000000</td>\n",
              "      <td>220300.000000</td>\n",
              "      <td>220304.000000</td>\n",
              "      <td>220304.000000</td>\n",
              "      <td>220248.000000</td>\n",
              "      <td>220059.000000</td>\n",
              "      <td>220304.00000</td>\n",
              "      <td>220252.000000</td>\n",
              "      <td>220304.000000</td>\n",
              "      <td>220304.000000</td>\n",
              "      <td>220304.000000</td>\n",
              "      <td>220304.000000</td>\n",
              "      <td>220304.000000</td>\n",
              "      <td>220293.000000</td>\n",
              "      <td>220293.000000</td>\n",
              "      <td>220293.000000</td>\n",
              "      <td>220293.000000</td>\n",
              "      <td>220293.000000</td>\n",
              "      <td>220293.000000</td>\n",
              "      <td>220293.000000</td>\n",
              "      <td>220293.000000</td>\n",
              "      <td>220293.000000</td>\n",
              "      <td>220293.000000</td>\n",
              "      <td>220293.000000</td>\n",
              "      <td>220293.000000</td>\n",
              "      <td>143303.000000</td>\n",
              "      <td>204937.000000</td>\n",
              "    </tr>\n",
              "    <tr>\n",
              "      <th>mean</th>\n",
              "      <td>110159.500000</td>\n",
              "      <td>2.372221</td>\n",
              "      <td>47.591611</td>\n",
              "      <td>50.867392</td>\n",
              "      <td>43.752481</td>\n",
              "      <td>590.673936</td>\n",
              "      <td>73.396414</td>\n",
              "      <td>13.501537</td>\n",
              "      <td>15.843152</td>\n",
              "      <td>15.200721</td>\n",
              "      <td>14.799210</td>\n",
              "      <td>41.470339</td>\n",
              "      <td>41.918319</td>\n",
              "      <td>29.136975</td>\n",
              "      <td>7.078858</td>\n",
              "      <td>376.860041</td>\n",
              "      <td>NaN</td>\n",
              "      <td>416.472892</td>\n",
              "      <td>421.127517</td>\n",
              "      <td>2.303785</td>\n",
              "      <td>590.829775</td>\n",
              "      <td>360.805165</td>\n",
              "      <td>796.225942</td>\n",
              "      <td>459.792815</td>\n",
              "      <td>922.609264</td>\n",
              "      <td>556.235397</td>\n",
              "      <td>649.144799</td>\n",
              "      <td>786.411781</td>\n",
              "      <td>501.506589</td>\n",
              "      <td>851.690339</td>\n",
              "      <td>576.195305</td>\n",
              "      <td>614.596442</td>\n",
              "      <td>863.32310</td>\n",
              "      <td>804.283915</td>\n",
              "      <td>486.405980</td>\n",
              "      <td>234.971776</td>\n",
              "      <td>427.129817</td>\n",
              "      <td>593.033876</td>\n",
              "      <td>60.787360</td>\n",
              "      <td>49.655946</td>\n",
              "      <td>36.610444</td>\n",
              "      <td>68.844530</td>\n",
              "      <td>35.365126</td>\n",
              "      <td>35.453455</td>\n",
              "      <td>43.879591</td>\n",
              "      <td>42.656877</td>\n",
              "      <td>43.094984</td>\n",
              "      <td>48.018585</td>\n",
              "      <td>44.340903</td>\n",
              "      <td>150.889044</td>\n",
              "      <td>57.119968</td>\n",
              "      <td>183.049260</td>\n",
              "      <td>202.699667</td>\n",
              "    </tr>\n",
              "    <tr>\n",
              "      <th>std</th>\n",
              "      <td>63601.049991</td>\n",
              "      <td>0.412227</td>\n",
              "      <td>3.296666</td>\n",
              "      <td>3.666820</td>\n",
              "      <td>2.418887</td>\n",
              "      <td>144.023912</td>\n",
              "      <td>17.298247</td>\n",
              "      <td>2.163736</td>\n",
              "      <td>2.201155</td>\n",
              "      <td>2.037390</td>\n",
              "      <td>2.091963</td>\n",
              "      <td>12.093519</td>\n",
              "      <td>13.056425</td>\n",
              "      <td>10.113935</td>\n",
              "      <td>6.901755</td>\n",
              "      <td>113.206382</td>\n",
              "      <td>NaN</td>\n",
              "      <td>126.072642</td>\n",
              "      <td>129.156175</td>\n",
              "      <td>0.765883</td>\n",
              "      <td>199.345820</td>\n",
              "      <td>101.974118</td>\n",
              "      <td>226.679317</td>\n",
              "      <td>154.528337</td>\n",
              "      <td>291.835280</td>\n",
              "      <td>182.297979</td>\n",
              "      <td>220.865166</td>\n",
              "      <td>246.663608</td>\n",
              "      <td>169.823173</td>\n",
              "      <td>313.074032</td>\n",
              "      <td>225.764091</td>\n",
              "      <td>195.726872</td>\n",
              "      <td>283.54476</td>\n",
              "      <td>260.602361</td>\n",
              "      <td>150.751836</td>\n",
              "      <td>88.376065</td>\n",
              "      <td>141.772519</td>\n",
              "      <td>289.385511</td>\n",
              "      <td>37.604883</td>\n",
              "      <td>10.540397</td>\n",
              "      <td>15.613723</td>\n",
              "      <td>21.371139</td>\n",
              "      <td>7.898665</td>\n",
              "      <td>10.259521</td>\n",
              "      <td>11.044404</td>\n",
              "      <td>11.576355</td>\n",
              "      <td>12.837520</td>\n",
              "      <td>15.641284</td>\n",
              "      <td>10.442437</td>\n",
              "      <td>82.244957</td>\n",
              "      <td>19.143598</td>\n",
              "      <td>65.258650</td>\n",
              "      <td>109.588607</td>\n",
              "    </tr>\n",
              "    <tr>\n",
              "      <th>min</th>\n",
              "      <td>0.000000</td>\n",
              "      <td>0.000000</td>\n",
              "      <td>0.000000</td>\n",
              "      <td>33.159720</td>\n",
              "      <td>31.640620</td>\n",
              "      <td>2.798032</td>\n",
              "      <td>0.000000</td>\n",
              "      <td>0.014468</td>\n",
              "      <td>0.000000</td>\n",
              "      <td>0.028935</td>\n",
              "      <td>0.000000</td>\n",
              "      <td>0.000000</td>\n",
              "      <td>0.000000</td>\n",
              "      <td>0.000000</td>\n",
              "      <td>0.000000</td>\n",
              "      <td>32.409550</td>\n",
              "      <td>NaN</td>\n",
              "      <td>0.000000</td>\n",
              "      <td>0.000000</td>\n",
              "      <td>0.000000</td>\n",
              "      <td>0.000000</td>\n",
              "      <td>0.000000</td>\n",
              "      <td>95.527660</td>\n",
              "      <td>0.000000</td>\n",
              "      <td>0.000000</td>\n",
              "      <td>0.000000</td>\n",
              "      <td>0.000000</td>\n",
              "      <td>43.154790</td>\n",
              "      <td>0.000000</td>\n",
              "      <td>4.319347</td>\n",
              "      <td>0.636574</td>\n",
              "      <td>0.000000</td>\n",
              "      <td>23.95833</td>\n",
              "      <td>0.240716</td>\n",
              "      <td>6.460602</td>\n",
              "      <td>54.882370</td>\n",
              "      <td>0.000000</td>\n",
              "      <td>2.260970</td>\n",
              "      <td>0.000000</td>\n",
              "      <td>24.479166</td>\n",
              "      <td>19.270830</td>\n",
              "      <td>23.437500</td>\n",
              "      <td>20.833330</td>\n",
              "      <td>22.135416</td>\n",
              "      <td>24.479166</td>\n",
              "      <td>25.752316</td>\n",
              "      <td>26.331018</td>\n",
              "      <td>26.331018</td>\n",
              "      <td>27.199070</td>\n",
              "      <td>26.331018</td>\n",
              "      <td>26.620370</td>\n",
              "      <td>27.488426</td>\n",
              "      <td>27.777779</td>\n",
              "    </tr>\n",
              "    <tr>\n",
              "      <th>25%</th>\n",
              "      <td>55079.750000</td>\n",
              "      <td>2.438831</td>\n",
              "      <td>46.310760</td>\n",
              "      <td>50.390620</td>\n",
              "      <td>42.838539</td>\n",
              "      <td>626.620400</td>\n",
              "      <td>69.976260</td>\n",
              "      <td>13.346350</td>\n",
              "      <td>15.907120</td>\n",
              "      <td>15.183740</td>\n",
              "      <td>15.053530</td>\n",
              "      <td>40.705260</td>\n",
              "      <td>38.856420</td>\n",
              "      <td>28.686810</td>\n",
              "      <td>1.538516</td>\n",
              "      <td>418.103250</td>\n",
              "      <td>NaN</td>\n",
              "      <td>459.453400</td>\n",
              "      <td>454.138825</td>\n",
              "      <td>2.447542</td>\n",
              "      <td>662.768975</td>\n",
              "      <td>398.021500</td>\n",
              "      <td>875.464400</td>\n",
              "      <td>478.962600</td>\n",
              "      <td>950.922400</td>\n",
              "      <td>601.151050</td>\n",
              "      <td>693.957800</td>\n",
              "      <td>790.489575</td>\n",
              "      <td>448.297950</td>\n",
              "      <td>782.682625</td>\n",
              "      <td>518.947225</td>\n",
              "      <td>627.777800</td>\n",
              "      <td>839.06240</td>\n",
              "      <td>760.607475</td>\n",
              "      <td>489.761075</td>\n",
              "      <td>172.486300</td>\n",
              "      <td>353.176625</td>\n",
              "      <td>288.547575</td>\n",
              "      <td>28.799220</td>\n",
              "      <td>45.572910</td>\n",
              "      <td>32.552080</td>\n",
              "      <td>57.812500</td>\n",
              "      <td>32.552080</td>\n",
              "      <td>32.812500</td>\n",
              "      <td>39.583330</td>\n",
              "      <td>36.747684</td>\n",
              "      <td>36.747684</td>\n",
              "      <td>40.509258</td>\n",
              "      <td>39.062500</td>\n",
              "      <td>83.912030</td>\n",
              "      <td>47.743060</td>\n",
              "      <td>167.534700</td>\n",
              "      <td>179.108800</td>\n",
              "    </tr>\n",
              "    <tr>\n",
              "      <th>50%</th>\n",
              "      <td>110159.500000</td>\n",
              "      <td>2.456539</td>\n",
              "      <td>48.133678</td>\n",
              "      <td>51.649300</td>\n",
              "      <td>44.227428</td>\n",
              "      <td>632.638916</td>\n",
              "      <td>75.576790</td>\n",
              "      <td>13.642940</td>\n",
              "      <td>16.167530</td>\n",
              "      <td>15.494790</td>\n",
              "      <td>15.082470</td>\n",
              "      <td>44.291340</td>\n",
              "      <td>45.363140</td>\n",
              "      <td>32.515830</td>\n",
              "      <td>2.929809</td>\n",
              "      <td>420.106200</td>\n",
              "      <td>NaN</td>\n",
              "      <td>462.856100</td>\n",
              "      <td>462.020250</td>\n",
              "      <td>2.533704</td>\n",
              "      <td>665.672400</td>\n",
              "      <td>399.367000</td>\n",
              "      <td>879.697600</td>\n",
              "      <td>531.855900</td>\n",
              "      <td>981.925000</td>\n",
              "      <td>625.873500</td>\n",
              "      <td>740.203500</td>\n",
              "      <td>861.869600</td>\n",
              "      <td>494.468450</td>\n",
              "      <td>967.279850</td>\n",
              "      <td>564.872500</td>\n",
              "      <td>668.981400</td>\n",
              "      <td>917.70830</td>\n",
              "      <td>878.850750</td>\n",
              "      <td>512.271750</td>\n",
              "      <td>226.356050</td>\n",
              "      <td>473.349350</td>\n",
              "      <td>709.668050</td>\n",
              "      <td>64.295485</td>\n",
              "      <td>49.479160</td>\n",
              "      <td>35.416660</td>\n",
              "      <td>66.406250</td>\n",
              "      <td>34.895832</td>\n",
              "      <td>35.156250</td>\n",
              "      <td>42.968750</td>\n",
              "      <td>40.509260</td>\n",
              "      <td>40.219910</td>\n",
              "      <td>44.849540</td>\n",
              "      <td>42.534720</td>\n",
              "      <td>138.020800</td>\n",
              "      <td>52.662040</td>\n",
              "      <td>193.865700</td>\n",
              "      <td>197.338000</td>\n",
              "    </tr>\n",
              "    <tr>\n",
              "      <th>75%</th>\n",
              "      <td>165239.250000</td>\n",
              "      <td>2.499826</td>\n",
              "      <td>49.479160</td>\n",
              "      <td>52.777770</td>\n",
              "      <td>45.312500</td>\n",
              "      <td>637.615723</td>\n",
              "      <td>80.912150</td>\n",
              "      <td>14.539930</td>\n",
              "      <td>16.427950</td>\n",
              "      <td>15.697340</td>\n",
              "      <td>15.118630</td>\n",
              "      <td>47.463760</td>\n",
              "      <td>49.656540</td>\n",
              "      <td>34.939730</td>\n",
              "      <td>12.859520</td>\n",
              "      <td>420.997100</td>\n",
              "      <td>NaN</td>\n",
              "      <td>464.302700</td>\n",
              "      <td>466.857075</td>\n",
              "      <td>2.587682</td>\n",
              "      <td>667.146700</td>\n",
              "      <td>400.088400</td>\n",
              "      <td>882.129900</td>\n",
              "      <td>534.254850</td>\n",
              "      <td>1090.808000</td>\n",
              "      <td>628.607725</td>\n",
              "      <td>750.357125</td>\n",
              "      <td>919.104775</td>\n",
              "      <td>536.274550</td>\n",
              "      <td>1043.976500</td>\n",
              "      <td>744.021475</td>\n",
              "      <td>697.222200</td>\n",
              "      <td>981.24990</td>\n",
              "      <td>943.877625</td>\n",
              "      <td>555.163225</td>\n",
              "      <td>316.844950</td>\n",
              "      <td>528.891025</td>\n",
              "      <td>837.333025</td>\n",
              "      <td>90.821928</td>\n",
              "      <td>53.645830</td>\n",
              "      <td>39.062500</td>\n",
              "      <td>77.864580</td>\n",
              "      <td>37.760410</td>\n",
              "      <td>36.979164</td>\n",
              "      <td>46.614580</td>\n",
              "      <td>45.138890</td>\n",
              "      <td>44.849540</td>\n",
              "      <td>51.215280</td>\n",
              "      <td>46.585650</td>\n",
              "      <td>208.333300</td>\n",
              "      <td>60.763890</td>\n",
              "      <td>219.907400</td>\n",
              "      <td>216.724500</td>\n",
              "    </tr>\n",
              "    <tr>\n",
              "      <th>max</th>\n",
              "      <td>220319.000000</td>\n",
              "      <td>2.549016</td>\n",
              "      <td>56.727430</td>\n",
              "      <td>56.032990</td>\n",
              "      <td>48.220490</td>\n",
              "      <td>800.000000</td>\n",
              "      <td>99.999880</td>\n",
              "      <td>22.251160</td>\n",
              "      <td>23.596640</td>\n",
              "      <td>24.348960</td>\n",
              "      <td>25.000000</td>\n",
              "      <td>76.106860</td>\n",
              "      <td>60.000000</td>\n",
              "      <td>45.000000</td>\n",
              "      <td>31.187550</td>\n",
              "      <td>500.000000</td>\n",
              "      <td>NaN</td>\n",
              "      <td>739.741500</td>\n",
              "      <td>599.999939</td>\n",
              "      <td>4.873250</td>\n",
              "      <td>878.917900</td>\n",
              "      <td>448.907900</td>\n",
              "      <td>1107.526000</td>\n",
              "      <td>594.061100</td>\n",
              "      <td>1227.564000</td>\n",
              "      <td>1000.000000</td>\n",
              "      <td>839.575000</td>\n",
              "      <td>1214.420000</td>\n",
              "      <td>2000.000000</td>\n",
              "      <td>1841.146000</td>\n",
              "      <td>1466.281000</td>\n",
              "      <td>1600.000000</td>\n",
              "      <td>1800.00000</td>\n",
              "      <td>1839.211000</td>\n",
              "      <td>1578.600000</td>\n",
              "      <td>425.549800</td>\n",
              "      <td>694.479126</td>\n",
              "      <td>984.060700</td>\n",
              "      <td>174.901200</td>\n",
              "      <td>417.708300</td>\n",
              "      <td>547.916600</td>\n",
              "      <td>512.760400</td>\n",
              "      <td>420.312500</td>\n",
              "      <td>374.218800</td>\n",
              "      <td>408.593700</td>\n",
              "      <td>1000.000000</td>\n",
              "      <td>320.312500</td>\n",
              "      <td>370.370400</td>\n",
              "      <td>303.530100</td>\n",
              "      <td>561.632000</td>\n",
              "      <td>464.409700</td>\n",
              "      <td>1000.000000</td>\n",
              "      <td>1000.000000</td>\n",
              "    </tr>\n",
              "  </tbody>\n",
              "</table>\n",
              "</div>"
            ],
            "text/plain": [
              "          Unnamed: 0      sensor_00  ...      sensor_50      sensor_51\n",
              "count  220320.000000  210112.000000  ...  143303.000000  204937.000000\n",
              "mean   110159.500000       2.372221  ...     183.049260     202.699667\n",
              "std     63601.049991       0.412227  ...      65.258650     109.588607\n",
              "min         0.000000       0.000000  ...      27.488426      27.777779\n",
              "25%     55079.750000       2.438831  ...     167.534700     179.108800\n",
              "50%    110159.500000       2.456539  ...     193.865700     197.338000\n",
              "75%    165239.250000       2.499826  ...     219.907400     216.724500\n",
              "max    220319.000000       2.549016  ...    1000.000000    1000.000000\n",
              "\n",
              "[8 rows x 53 columns]"
            ]
          },
          "metadata": {
            "tags": []
          },
          "execution_count": 8
        }
      ]
    },
    {
      "cell_type": "markdown",
      "metadata": {
        "id": "ASMNahkx-YhA"
      },
      "source": [
        "Checking for Missing values"
      ]
    },
    {
      "cell_type": "code",
      "metadata": {
        "colab": {
          "base_uri": "https://localhost:8080/"
        },
        "id": "XtKDe9dv-bQc",
        "outputId": "b8ddfbbe-0d3e-48a5-d66a-a92b868795ca"
      },
      "source": [
        "print(input_df.isnull().sum())"
      ],
      "execution_count": null,
      "outputs": [
        {
          "output_type": "stream",
          "text": [
            "Unnamed: 0             0\n",
            "timestamp              0\n",
            "sensor_00          10208\n",
            "sensor_01            369\n",
            "sensor_02             19\n",
            "sensor_03             19\n",
            "sensor_04             19\n",
            "sensor_05             19\n",
            "sensor_06           4798\n",
            "sensor_07           5451\n",
            "sensor_08           5107\n",
            "sensor_09           4595\n",
            "sensor_10             19\n",
            "sensor_11             19\n",
            "sensor_12             19\n",
            "sensor_13             19\n",
            "sensor_14             21\n",
            "sensor_15         220320\n",
            "sensor_16             31\n",
            "sensor_17             46\n",
            "sensor_18             46\n",
            "sensor_19             16\n",
            "sensor_20             16\n",
            "sensor_21             16\n",
            "sensor_22             41\n",
            "sensor_23             16\n",
            "sensor_24             16\n",
            "sensor_25             36\n",
            "sensor_26             20\n",
            "sensor_27             16\n",
            "sensor_28             16\n",
            "sensor_29             72\n",
            "sensor_30            261\n",
            "sensor_31             16\n",
            "sensor_32             68\n",
            "sensor_33             16\n",
            "sensor_34             16\n",
            "sensor_35             16\n",
            "sensor_36             16\n",
            "sensor_37             16\n",
            "sensor_38             27\n",
            "sensor_39             27\n",
            "sensor_40             27\n",
            "sensor_41             27\n",
            "sensor_42             27\n",
            "sensor_43             27\n",
            "sensor_44             27\n",
            "sensor_45             27\n",
            "sensor_46             27\n",
            "sensor_47             27\n",
            "sensor_48             27\n",
            "sensor_49             27\n",
            "sensor_50          77017\n",
            "sensor_51          15383\n",
            "machine_status         0\n",
            "dtype: int64\n"
          ],
          "name": "stdout"
        }
      ]
    },
    {
      "cell_type": "markdown",
      "metadata": {
        "id": "aWaAmB7lZ5Gd"
      },
      "source": [
        "Removing the columns which have maximum number of empty cells"
      ]
    },
    {
      "cell_type": "code",
      "metadata": {
        "id": "FcaIK8ubZ2R8"
      },
      "source": [
        "input_df.drop(['Unnamed: 0', 'timestamp','sensor_00','sensor_15','sensor_50','sensor_51'],axis=1, inplace=True)"
      ],
      "execution_count": null,
      "outputs": []
    },
    {
      "cell_type": "markdown",
      "metadata": {
        "id": "s3-w59zBEhuL"
      },
      "source": [
        "Since the sensor data has many empty cells, which could be due to mal-function or network connectivity, if there is no flow of water we see zero in the dataset and we found so many empty cells as shown above we will fill it with mean values"
      ]
    },
    {
      "cell_type": "code",
      "metadata": {
        "id": "WTc9tWLL-j7-"
      },
      "source": [
        "for column in input_df.columns:\n",
        "  if 'sensor' in column:\n",
        "    try:\n",
        "      temp_mean=input_df[column].mean()\n",
        "    except:\n",
        "      temp_mean=0\n",
        "    if np.isnan(temp_mean):\n",
        "      temp_mean=0\n",
        "    \n",
        "    input_df[column].replace(np.nan,temp_mean,inplace=True)\n",
        "    "
      ],
      "execution_count": null,
      "outputs": []
    },
    {
      "cell_type": "markdown",
      "metadata": {
        "id": "3ARMSrKxfDsC"
      },
      "source": [
        "Testing if we are able to fill all the null values in the dataset"
      ]
    },
    {
      "cell_type": "code",
      "metadata": {
        "colab": {
          "base_uri": "https://localhost:8080/"
        },
        "id": "13QpOJPseE5L",
        "outputId": "fd63055a-d910-4b54-b8bf-1af59da637d6"
      },
      "source": [
        "print(input_df.isnull().sum())"
      ],
      "execution_count": null,
      "outputs": [
        {
          "output_type": "stream",
          "text": [
            "sensor_01         0\n",
            "sensor_02         0\n",
            "sensor_03         0\n",
            "sensor_04         0\n",
            "sensor_05         0\n",
            "sensor_06         0\n",
            "sensor_07         0\n",
            "sensor_08         0\n",
            "sensor_09         0\n",
            "sensor_10         0\n",
            "sensor_11         0\n",
            "sensor_12         0\n",
            "sensor_13         0\n",
            "sensor_14         0\n",
            "sensor_16         0\n",
            "sensor_17         0\n",
            "sensor_18         0\n",
            "sensor_19         0\n",
            "sensor_20         0\n",
            "sensor_21         0\n",
            "sensor_22         0\n",
            "sensor_23         0\n",
            "sensor_24         0\n",
            "sensor_25         0\n",
            "sensor_26         0\n",
            "sensor_27         0\n",
            "sensor_28         0\n",
            "sensor_29         0\n",
            "sensor_30         0\n",
            "sensor_31         0\n",
            "sensor_32         0\n",
            "sensor_33         0\n",
            "sensor_34         0\n",
            "sensor_35         0\n",
            "sensor_36         0\n",
            "sensor_37         0\n",
            "sensor_38         0\n",
            "sensor_39         0\n",
            "sensor_40         0\n",
            "sensor_41         0\n",
            "sensor_42         0\n",
            "sensor_43         0\n",
            "sensor_44         0\n",
            "sensor_45         0\n",
            "sensor_46         0\n",
            "sensor_47         0\n",
            "sensor_48         0\n",
            "sensor_49         0\n",
            "machine_status    0\n",
            "dtype: int64\n"
          ],
          "name": "stdout"
        }
      ]
    },
    {
      "cell_type": "markdown",
      "metadata": {
        "id": "2kKErYEdfOuG"
      },
      "source": [
        "Checking for duplicate data - Since we have so many records we need to check if there exists any duplicate data. Upon executing below statement we can check the count of duplicate reports"
      ]
    },
    {
      "cell_type": "code",
      "metadata": {
        "colab": {
          "base_uri": "https://localhost:8080/"
        },
        "id": "_YOb4NdffOI1",
        "outputId": "a7a2e444-483c-441c-84f7-87c7f19d68c1"
      },
      "source": [
        "duplicate=input_df.duplicated()\n",
        "print(duplicate.sum())"
      ],
      "execution_count": null,
      "outputs": [
        {
          "output_type": "stream",
          "text": [
            "2876\n"
          ],
          "name": "stdout"
        }
      ]
    },
    {
      "cell_type": "code",
      "metadata": {
        "id": "HAZff5G7fCOs"
      },
      "source": [
        "target_df=input_df['machine_status']\n",
        "input_df.drop(['machine_status'],axis=1,inplace=True)"
      ],
      "execution_count": null,
      "outputs": []
    },
    {
      "cell_type": "code",
      "metadata": {
        "colab": {
          "base_uri": "https://localhost:8080/"
        },
        "id": "7sHNG0R6zFkP",
        "outputId": "6508451e-79dc-43d9-c9fb-1b6b93132d1c"
      },
      "source": [
        "X=np.array(input_df)\n",
        "y=np.array(target_df)\n",
        "X_train, X_test, y_train, y_test = train_test_split(X, y, test_size=0.2, random_state=random.randint(1,1000))\n",
        "\n",
        "print(X_train.shape,X_test.shape,y_train.shape,y_test.shape)"
      ],
      "execution_count": null,
      "outputs": [
        {
          "output_type": "stream",
          "text": [
            "(176256, 48) (44064, 48) (176256,) (44064,)\n"
          ],
          "name": "stdout"
        }
      ]
    },
    {
      "cell_type": "markdown",
      "metadata": {
        "id": "pj_whHt83dMJ"
      },
      "source": [
        "Next we test the classification algorithms using Raw Data, Stadardized data and Normalized data, observe accuracy, precision, recall and f1 score and decide the final model for our web application"
      ]
    },
    {
      "cell_type": "code",
      "metadata": {
        "colab": {
          "base_uri": "https://localhost:8080/",
          "height": 265
        },
        "id": "AcUruvdJ3tLT",
        "outputId": "ff4616b1-6721-42c6-ee7b-3ab481dde35d"
      },
      "source": [
        "classifiers(X_train,y_train)"
      ],
      "execution_count": null,
      "outputs": [
        {
          "output_type": "display_data",
          "data": {
            "image/png": "[encoded data removed]",
            "text/plain": [
              "<Figure size 432x288 with 1 Axes>"
            ]
          },
          "metadata": {
            "tags": [],
            "needs_background": "light"
          }
        }
      ]
    },
    {
      "cell_type": "markdown",
      "metadata": {
        "id": "Qck4rvh4eB32"
      },
      "source": [
        "Upon evaluating the aforementioned classification machine learning algorithms, we find random forest algorithm has the highest accuracy, hence we will create a model using it."
      ]
    },
    {
      "cell_type": "code",
      "metadata": {
        "colab": {
          "base_uri": "https://localhost:8080/"
        },
        "id": "qYQ_eRz5kQOw",
        "outputId": "566a7fa7-a720-4dfa-b920-940cac6a0fef"
      },
      "source": [
        "from sklearn.model_selection import train_test_split\n",
        "from sklearn.ensemble import RandomForestClassifier\n",
        "from sklearn.metrics import accuracy_score\n",
        "\n",
        "random_f = RandomForestClassifier()\n",
        "random_f.fit(X_train,y_train)\n",
        "y_pred = random_f.predict(X_test)\n",
        "Accuracy = accuracy_score(y_test,y_pred)\n",
        "print(Accuracy)"
      ],
      "execution_count": null,
      "outputs": [
        {
          "output_type": "stream",
          "text": [
            "0.9999092229484386\n"
          ],
          "name": "stdout"
        }
      ]
    },
    {
      "cell_type": "code",
      "metadata": {
        "colab": {
          "base_uri": "https://localhost:8080/"
        },
        "id": "vBJSzKLAlvhc",
        "outputId": "306a1ddd-3098-4b96-af99-6e88bf85208c"
      },
      "source": [
        "for i in range(0,len(X_test)):\n",
        "  print(X_test[i],y_pred[i])\n",
        "  if i==10:\n",
        "    break"
      ],
      "execution_count": null,
      "outputs": [
        {
          "output_type": "stream",
          "text": [
            "[  49.91319      52.82117844   45.22569     634.60644531   68.35483\n",
            "   14.96672      16.6522       15.53096      15.48032      46.33294\n",
            "   53.41107      37.00311      16.5216      420.3406      461.2589\n",
            "  460.4208        2.524661    664.7361      399.5622      878.9539\n",
            "  531.4828     1084.917       626.7679      721.9073      897.2914\n",
            "  559.6244      751.9668      575.7001      689.8148      878.6458\n",
            "  960.415       537.5729      196.5222      504.2348      880.2547\n",
            "    7.480574     48.4375       39.32291      96.875        31.77083\n",
            "   34.11458206   50.78125      44.56018      41.95602      51.21528\n",
            "   38.77314758  253.1829       63.65741   ] NORMAL\n",
            "[  49.91319275   50.9982605    45.39930344  637.8472       68.52064\n",
            "   15.0897       16.70284      15.65393      15.05353      39.02545\n",
            "   51.32674      38.23664      11.57274     420.5026      462.574\n",
            "  494.3902        2.899188    675.7789      405.3541      890.9136\n",
            "  540.9572     1105.354       606.6443      699.9037      795.1422\n",
            "  176.783       775.8075      495.2753      658.3333      817.1874\n",
            "  616.4656      524.4298      259.8356      559.3239      823.8599\n",
            "    0.           51.30208      29.6875       65.625        31.77083\n",
            "   31.51042      40.10416      50.92593      61.9213       62.78935\n",
            "   40.21991     315.1042      104.7454    ] NORMAL\n",
            "[  47.09201      49.65277      41.6232605   640.5093       79.40813\n",
            "   14.60503      16.03733      15.74074      15.16204      49.05155\n",
            "   39.66021      32.40023       1.088351    419.5315      464.688\n",
            "  506.1939        3.029801    666.2217      399.3581      880.2128\n",
            "  506.4359      981.522       601.0007      749.2349      900.8411\n",
            "  434.6692     1002.634       522.4197      616.2037      948.9583\n",
            "  884.7939      518.4882      328.336       485.4049      861.8585\n",
            "   78.29458      49.73958      32.29166      59.11458      36.97916\n",
            "   34.375        40.88541      36.16897964   35.30092621   42.53472\n",
            "   45.42824      62.78935      50.92592621] NORMAL\n",
            "[4.67013900e+01 5.26041600e+01 4.37065964e+01 6.22222200e+02\n",
            " 7.70568500e+01 1.36140000e+01 1.56611700e+01 1.47714100e+01\n",
            " 1.51186300e+01 4.65911500e+01 4.31259800e+01 3.35232000e+01\n",
            " 2.39406800e+00 3.65835609e+01 1.82082000e+01 5.83752700e+01\n",
            " 4.03105400e-02 4.44573300e+01 6.52783100e+01 1.47373400e+02\n",
            " 5.93839531e+01 6.75756100e+01 8.03939900e+01 0.00000000e+00\n",
            " 9.76399765e+01 2.02788700e+02 1.14573000e+02 1.12270000e+02\n",
            " 1.43518500e+02 1.97395800e+02 1.73119600e+02 9.21295300e+01\n",
            " 6.91219900e+01 2.93830900e+01 2.65237000e+01 6.60989400e+01\n",
            " 4.55729100e+01 2.83854160e+01 6.74479100e+01 3.22916600e+01\n",
            " 3.09895800e+01 4.06250000e+01 3.76157400e+01 3.93518500e+01\n",
            " 3.96412000e+01 4.36921300e+01 5.64236100e+01 4.31134262e+01] NORMAL\n",
            "[5.07812500e+01 5.13888900e+01 4.48784700e+01 6.36342600e+02\n",
            " 7.58471500e+01 1.37803800e+01 1.59143500e+01 1.46990700e+01\n",
            " 1.47497100e+01 4.43120300e+01 3.68994300e+01 2.58191500e+01\n",
            " 2.31481500e-02 4.18401400e+02 4.64315700e+02 4.64958000e+02\n",
            " 2.57257300e+00 6.67655500e+02 4.00310300e+02 8.81280200e+02\n",
            " 5.06589800e+02 9.78906900e+02 6.02375500e+02 7.48793800e+02\n",
            " 8.96302400e+02 4.31430000e+02 1.00160500e+03 2.54629683e+00\n",
            " 5.90740700e+02 8.48437400e+02 7.91458000e+02 5.03982500e+02\n",
            " 3.10591200e+02 4.45667000e+02 8.05706100e+02 6.44455000e+01\n",
            " 4.81770800e+01 3.69791600e+01 4.86979100e+01 3.48958300e+01\n",
            " 3.56770821e+01 3.88020800e+01 3.90625000e+01 3.76157400e+01\n",
            " 4.16666700e+01 3.73263893e+01 1.16030100e+02 5.35300900e+01] NORMAL\n",
            "[  51.6059       53.38541      44.14063     626.0416       78.73409\n",
            "   13.56337      16.21094      15.49479      15.11863      44.026\n",
            "   50.07556      37.19077       4.473778    407.5457      454.361\n",
            "  459.1659        2.484341    626.8095      374.849       823.8677\n",
            "  460.929       979.2323      588.7138      653.0886      752.9266\n",
            "  491.0259     1139.056       747.5869      698.6111     1028.646\n",
            "  710.1263      600.7639      158.7736      331.3575      490.4085\n",
            "  133.3483       45.3125       36.71875      60.9375       36.45833\n",
            "   38.02083206   43.48958      54.6875       44.84954      54.97685\n",
            "   71.18056     239.0046       97.51157   ] NORMAL\n",
            "[4.08420100e+01 4.34895800e+01 4.03645800e+01 2.00674179e+02\n",
            " 0.00000000e+00 1.00983800e+01 1.26229700e+01 1.28038200e+01\n",
            " 1.88151000e+01 2.52330000e+00 1.98040200e+00 2.05709600e+00\n",
            " 3.85252000e-02 1.87781100e+02 2.07225900e+02 1.98630400e+02\n",
            " 4.67599800e-01 2.70506400e+02 1.65838300e+02 3.67022500e+02\n",
            " 2.19568600e+02 4.51008100e+02 2.61166000e+02 9.77922100e+00\n",
            " 1.47775100e+02 7.23898700e+01 3.64882700e+02 1.43872100e+02\n",
            " 3.58333300e+02 7.69270800e+02 4.37098000e+02 2.45903300e+02\n",
            " 3.34360500e+02 6.94479126e+02 3.61765800e+02 1.34607000e+01\n",
            " 2.63020821e+01 2.10937500e+01 2.70833300e+01 2.26562500e+01\n",
            " 2.44791700e+01 2.78645821e+01 3.29861100e+01 2.77777786e+01\n",
            " 2.80671291e+01 2.95138900e+01 2.92245400e+01 4.83217600e+01] RECOVERING\n",
            "[4.40538200e+01 4.95225700e+01 4.06683998e+01 6.39004600e+02\n",
            " 8.02029800e+01 1.30931700e+01 1.64279500e+01 1.49884300e+01\n",
            " 1.50824700e+01 4.10364600e+01 4.05468600e+01 3.06177700e+01\n",
            " 1.51446000e+00 3.65835600e+01 3.18853800e+01 5.94530800e+01\n",
            " 4.19583400e-02 4.33219800e+01 5.92977800e+01 1.31242400e+02\n",
            " 6.59816700e+01 0.00000000e+00 9.41516600e+01 0.00000000e+00\n",
            " 7.96717800e+01 1.47881900e+02 4.87697100e+01 5.89434700e+01\n",
            " 7.96296300e+01 1.04687500e+02 9.06931200e+01 4.42340100e+01\n",
            " 6.54609400e+01 0.00000000e+00 5.79863281e+01 2.62139600e+01\n",
            " 5.05208300e+01 3.43750000e+01 6.11979100e+01 3.28125000e+01\n",
            " 3.09895821e+01 3.64583300e+01 3.24074059e+01 3.24074059e+01\n",
            " 3.58796300e+01 3.64583300e+01 1.53645800e+02 4.54282417e+01] NORMAL\n",
            "[  47.5916107    51.6493       46.09375     624.65270996   62.99818\n",
            "   14.12037      16.70284      16.23264      15.63947      50.11478\n",
            "   52.12057      31.57143      12.0326      418.9586      465.2492\n",
            "  461.5669        2.549469    665.0734      399.918       879.3796\n",
            "  532.5986     1089.942       630.1127      738.1724      975.5272\n",
            "  500.9457      948.5037      562.0894      708.7963      952.6041\n",
            " 1006.348       547.8876      353.8453      522.8669      825.8069\n",
            "   64.44228      53.125        41.66666      70.3125       36.45833\n",
            "   36.97916      42.96875      45.13889      55.2662       68.28703\n",
            "   61.34259     198.4954       56.13426   ] NORMAL\n",
            "[ 47.82986069  53.21180344  45.3559     635.5324      83.25629\n",
            "  13.84549     16.12413     15.61777     15.08247     40.84684\n",
            "  42.89005     31.61268      1.461761    36.58355     18.68037\n",
            "   0.           0.           0.          58.3134     122.7184\n",
            "   0.          67.23422241   0.           0.          79.54464\n",
            " 156.369       26.23317     28.12944     41.2037      56.77083\n",
            "  39.07249     16.11763     61.04745     83.55724     91.24297\n",
            "  74.54874     49.21875     36.45833     67.96875     36.45833\n",
            "  36.71875     43.22916     39.0625      40.21991     42.24537\n",
            "  41.08796    100.4051      52.66204   ] NORMAL\n",
            "[ 46.52777     51.04166     42.49131775 628.8195      91.618\n",
            "  13.43316     16.70284     15.22714     15.11863     47.63719\n",
            "  46.08306     34.46043      3.697386   221.8119     350.3857\n",
            " 387.4738       1.784345   132.1834     106.1344     244.8046\n",
            " 119.1151     248.3815     179.7477     197.3889     221.1156\n",
            " 478.8911     242.0313     227.9737      88.42593    150.5208\n",
            " 179.1109     126.0514      66.92268     62.12339     60.80276\n",
            "  80.42045     47.91666     30.46875     55.72916     33.85416\n",
            "  32.55208     35.67708     33.85417     35.01157     39.0625\n",
            "  46.2963     105.3241      43.69213   ] NORMAL\n"
          ],
          "name": "stdout"
        }
      ]
    },
    {
      "cell_type": "code",
      "metadata": {
        "id": "REMWJuLq2ofx"
      },
      "source": [
        "import pickle\n",
        "\n",
        "filename = 'random_forest.sav'\n",
        "pickle.dump(random_f, open(filename, 'wb'))"
      ],
      "execution_count": null,
      "outputs": []
    }
  ]
}