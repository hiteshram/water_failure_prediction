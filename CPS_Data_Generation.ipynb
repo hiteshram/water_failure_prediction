{
  "nbformat": 4,
  "nbformat_minor": 0,
  "metadata": {
    "colab": {
      "name": "CPS Data Generation.ipynb",
      "provenance": [],
      "collapsed_sections": [],
      "machine_shape": "hm"
    },
    "kernelspec": {
      "name": "python3",
      "display_name": "Python 3"
    },
    "language_info": {
      "name": "python"
    },
    "accelerator": "TPU"
  },
  "cells": [
    {
      "cell_type": "code",
      "metadata": {
        "id": "SlXBLZLQjKnE"
      },
      "source": [
        "import pandas as pd\n",
        "import numpy as np\n",
        "import os\n",
        "import random\n",
        "from sklearn.model_selection import train_test_split\n",
        "from google.colab import drive\n",
        "import csv\n",
        "\n",
        "from keras.models import Sequential\n",
        "from keras.layers import LSTM\n",
        "from keras.layers import Dense\n",
        "from keras.layers import RepeatVector\n",
        "from keras.layers import TimeDistributed\n",
        "import tensorflow as tf"
      ],
      "execution_count": null,
      "outputs": []
    },
    {
      "cell_type": "code",
      "metadata": {
        "colab": {
          "base_uri": "https://localhost:8080/"
        },
        "id": "XUWopkW0j0II",
        "outputId": "6e2222c4-a34f-4462-8ea7-afc6c3c6e9b2"
      },
      "source": [
        "drive.mount('/content/drive')"
      ],
      "execution_count": null,
      "outputs": [
        {
          "output_type": "stream",
          "text": [
            "Drive already mounted at /content/drive; to attempt to forcibly remount, call drive.mount(\"/content/drive\", force_remount=True).\n"
          ],
          "name": "stdout"
        }
      ]
    },
    {
      "cell_type": "code",
      "metadata": {
        "id": "-GhCVdfskWuu"
      },
      "source": [
        "file_path=os.path.join(os.getcwd(),'drive','MyDrive','Colab Notebooks','sensor.csv')"
      ],
      "execution_count": null,
      "outputs": []
    },
    {
      "cell_type": "code",
      "metadata": {
        "id": "5RczVEXZkqi_"
      },
      "source": [
        "input_data=pd.read_csv(file_path)"
      ],
      "execution_count": null,
      "outputs": []
    },
    {
      "cell_type": "code",
      "metadata": {
        "id": "oclEupZoFVz0"
      },
      "source": [
        "for column in input_data.columns:\n",
        "  if 'sensor' in column:\n",
        "    try:\n",
        "      temp_mean=input_data[column].mean()\n",
        "    except:\n",
        "      temp_mean=0\n",
        "    if np.isnan(temp_mean):\n",
        "      temp_mean=0\n",
        "    \n",
        "    input_data[column].replace(np.nan,temp_mean,inplace=True)"
      ],
      "execution_count": null,
      "outputs": []
    },
    {
      "cell_type": "code",
      "metadata": {
        "colab": {
          "base_uri": "https://localhost:8080/"
        },
        "id": "Gh1R8G3Al4DK",
        "outputId": "09a27b04-1738-4b5b-f9d5-5d128dcb2b56"
      },
      "source": [
        "print(input_data.columns)"
      ],
      "execution_count": null,
      "outputs": [
        {
          "output_type": "stream",
          "text": [
            "Index(['Unnamed: 0', 'timestamp', 'sensor_00', 'sensor_01', 'sensor_02',\n",
            "       'sensor_03', 'sensor_04', 'sensor_05', 'sensor_06', 'sensor_07',\n",
            "       'sensor_08', 'sensor_09', 'sensor_10', 'sensor_11', 'sensor_12',\n",
            "       'sensor_13', 'sensor_14', 'sensor_15', 'sensor_16', 'sensor_17',\n",
            "       'sensor_18', 'sensor_19', 'sensor_20', 'sensor_21', 'sensor_22',\n",
            "       'sensor_23', 'sensor_24', 'sensor_25', 'sensor_26', 'sensor_27',\n",
            "       'sensor_28', 'sensor_29', 'sensor_30', 'sensor_31', 'sensor_32',\n",
            "       'sensor_33', 'sensor_34', 'sensor_35', 'sensor_36', 'sensor_37',\n",
            "       'sensor_38', 'sensor_39', 'sensor_40', 'sensor_41', 'sensor_42',\n",
            "       'sensor_43', 'sensor_44', 'sensor_45', 'sensor_46', 'sensor_47',\n",
            "       'sensor_48', 'sensor_49', 'sensor_50', 'sensor_51', 'machine_status'],\n",
            "      dtype='object')\n"
          ],
          "name": "stdout"
        }
      ]
    },
    {
      "cell_type": "code",
      "metadata": {
        "id": "57Vu8HKHmNU5"
      },
      "source": [
        "input_data.drop(['Unnamed: 0', 'timestamp','sensor_00','sensor_15','sensor_50','sensor_51'],axis=1, inplace=True)\n"
      ],
      "execution_count": null,
      "outputs": []
    },
    {
      "cell_type": "code",
      "metadata": {
        "colab": {
          "base_uri": "https://localhost:8080/"
        },
        "id": "-uPwABnCoL2n",
        "outputId": "5ad58c0e-6c93-458c-8a90-c30880793638"
      },
      "source": [
        "print(set(list(input_data['machine_status'])))"
      ],
      "execution_count": null,
      "outputs": [
        {
          "output_type": "stream",
          "text": [
            "{'BROKEN', 'NORMAL', 'RECOVERING'}\n"
          ],
          "name": "stdout"
        }
      ]
    },
    {
      "cell_type": "code",
      "metadata": {
        "colab": {
          "base_uri": "https://localhost:8080/"
        },
        "id": "ablHgLWpoVuF",
        "outputId": "a37e02c4-97d1-4c59-8a38-e161fd662553"
      },
      "source": [
        "broken_input_data=input_data[input_data['machine_status']=='BROKEN']\n",
        "print(len(broken_input_data))\n",
        "broken_input_data.drop(['machine_status'],inplace=True,axis=1)"
      ],
      "execution_count": null,
      "outputs": [
        {
          "output_type": "stream",
          "text": [
            "7\n"
          ],
          "name": "stdout"
        },
        {
          "output_type": "stream",
          "text": [
            "/usr/local/lib/python3.7/dist-packages/pandas/core/frame.py:4174: SettingWithCopyWarning: \n",
            "A value is trying to be set on a copy of a slice from a DataFrame\n",
            "\n",
            "See the caveats in the documentation: https://pandas.pydata.org/pandas-docs/stable/user_guide/indexing.html#returning-a-view-versus-a-copy\n",
            "  errors=errors,\n"
          ],
          "name": "stderr"
        }
      ]
    },
    {
      "cell_type": "code",
      "metadata": {
        "colab": {
          "base_uri": "https://localhost:8080/"
        },
        "id": "TuiPzbl_o8l4",
        "outputId": "d3e8f18c-60b1-4c8a-cbb7-68f13a231a3d"
      },
      "source": [
        "normal_input_data=input_data[input_data['machine_status']=='NORMAL']\n",
        "normal_input_data.drop(['machine_status'],inplace=True,axis=1)\n",
        "#train,test=normal_input_data[0:1500],normal_input_data[1500:2000]\n",
        "#print(len(train),len(test))"
      ],
      "execution_count": null,
      "outputs": [
        {
          "output_type": "stream",
          "text": [
            "1500 500\n"
          ],
          "name": "stdout"
        },
        {
          "output_type": "stream",
          "text": [
            "/usr/local/lib/python3.7/dist-packages/pandas/core/frame.py:4174: SettingWithCopyWarning: \n",
            "A value is trying to be set on a copy of a slice from a DataFrame\n",
            "\n",
            "See the caveats in the documentation: https://pandas.pydata.org/pandas-docs/stable/user_guide/indexing.html#returning-a-view-versus-a-copy\n",
            "  errors=errors,\n"
          ],
          "name": "stderr"
        }
      ]
    },
    {
      "cell_type": "code",
      "metadata": {
        "colab": {
          "base_uri": "https://localhost:8080/"
        },
        "id": "rAzxLEGopJPA",
        "outputId": "0c1e068e-ca0b-48a3-e149-c5a936924046"
      },
      "source": [
        "recovering_input_data=input_data[input_data['machine_status']=='RECOVERING']\n",
        "print(len(recovering_input_data))\n",
        "recovering_input_data.drop(['machine_status'],inplace=True,axis=1)\n",
        "train,test=recovering_input_data[0:1500],recovering_input_data[1500:2000]\n",
        "print(len(train),len(test))"
      ],
      "execution_count": null,
      "outputs": [
        {
          "output_type": "stream",
          "text": [
            "14477\n",
            "1500 500\n"
          ],
          "name": "stdout"
        },
        {
          "output_type": "stream",
          "text": [
            "/usr/local/lib/python3.7/dist-packages/pandas/core/frame.py:4174: SettingWithCopyWarning: \n",
            "A value is trying to be set on a copy of a slice from a DataFrame\n",
            "\n",
            "See the caveats in the documentation: https://pandas.pydata.org/pandas-docs/stable/user_guide/indexing.html#returning-a-view-versus-a-copy\n",
            "  errors=errors,\n"
          ],
          "name": "stderr"
        }
      ]
    },
    {
      "cell_type": "code",
      "metadata": {
        "id": "G5iBJNdYv5il"
      },
      "source": [
        "def split_series(series, n_past, n_future):\n",
        "  #\n",
        "  # n_past ==> no of past observations\n",
        "  #\n",
        "  # n_future ==> no of future observations \n",
        "  #\n",
        "  X, y = list(), list()\n",
        "  for window_start in range(len(series)):\n",
        "    past_end = window_start + n_past\n",
        "    future_end = past_end + n_future\n",
        "    if future_end > len(series):\n",
        "      break\n",
        "    # slicing the past and future parts of the window\n",
        "    past, future = series[window_start:past_end, :], series[past_end:future_end, :]\n",
        "    X.append(past)\n",
        "    y.append(future)\n",
        "  return np.array(X), np.array(y)"
      ],
      "execution_count": null,
      "outputs": []
    },
    {
      "cell_type": "code",
      "metadata": {
        "id": "wE-zTosNytxE"
      },
      "source": [
        "n_past = 5\n",
        "n_future = 1 \n",
        "n_features = 48"
      ],
      "execution_count": null,
      "outputs": []
    },
    {
      "cell_type": "code",
      "metadata": {
        "id": "NxamaknjGmsB"
      },
      "source": [
        "X_train, y_train = split_series(train.values,n_past, n_future)\n",
        "X_train = X_train.reshape((X_train.shape[0], X_train.shape[1],n_features))\n",
        "y_train = y_train.reshape((y_train.shape[0], y_train.shape[1], n_features))\n",
        "\n",
        "X_test, y_test = split_series(test.values,n_past, n_future)\n",
        "X_test = X_test.reshape((X_test.shape[0], X_test.shape[1],n_features))\n",
        "y_test = y_test.reshape((y_test.shape[0], y_test.shape[1], n_features))"
      ],
      "execution_count": null,
      "outputs": []
    },
    {
      "cell_type": "code",
      "metadata": {
        "colab": {
          "base_uri": "https://localhost:8080/"
        },
        "id": "EHLNGHa1GsWx",
        "outputId": "da74a429-4476-4ece-f2d0-f5f59a38c3da"
      },
      "source": [
        "print(X_train.shape)\n",
        "print(y_train.shape)"
      ],
      "execution_count": null,
      "outputs": [
        {
          "output_type": "stream",
          "text": [
            "(1495, 5, 48)\n",
            "(1495, 1, 48)\n"
          ],
          "name": "stdout"
        }
      ]
    },
    {
      "cell_type": "code",
      "metadata": {
        "colab": {
          "base_uri": "https://localhost:8080/"
        },
        "id": "src3ROtNMyEs",
        "outputId": "d9841c70-6efd-42c9-ffc7-06325da49e0c"
      },
      "source": [
        "# E1D1\n",
        "# n_features ==> no of features at each timestep in the data.\n",
        "#\n",
        "encoder_inputs = tf.keras.layers.Input(shape=(n_past, n_features))\n",
        "encoder_l1 = tf.keras.layers.LSTM(100, return_state=True)\n",
        "encoder_outputs1 = encoder_l1(encoder_inputs)\n",
        "encoder_states1 = encoder_outputs1[1:]\n",
        "decoder_inputs = tf.keras.layers.RepeatVector(n_future)(encoder_outputs1[0])\n",
        "decoder_l1 = tf.keras.layers.LSTM(100, return_sequences=True)(decoder_inputs,initial_state = encoder_states1)\n",
        "decoder_outputs1 = tf.keras.layers.TimeDistributed(tf.keras.layers.Dense(n_features))(decoder_l1)\n",
        "model_e1d1 = tf.keras.models.Model(encoder_inputs,decoder_outputs1)\n",
        "model_e1d1.summary()"
      ],
      "execution_count": null,
      "outputs": [
        {
          "output_type": "stream",
          "text": [
            "Model: \"model_2\"\n",
            "__________________________________________________________________________________________________\n",
            "Layer (type)                    Output Shape         Param #     Connected to                     \n",
            "==================================================================================================\n",
            "input_3 (InputLayer)            [(None, 5, 48)]      0                                            \n",
            "__________________________________________________________________________________________________\n",
            "lstm_4 (LSTM)                   [(None, 100), (None, 59600       input_3[0][0]                    \n",
            "__________________________________________________________________________________________________\n",
            "repeat_vector_2 (RepeatVector)  (None, 1, 100)       0           lstm_4[0][0]                     \n",
            "__________________________________________________________________________________________________\n",
            "lstm_5 (LSTM)                   (None, 1, 100)       80400       repeat_vector_2[0][0]            \n",
            "                                                                 lstm_4[0][1]                     \n",
            "                                                                 lstm_4[0][2]                     \n",
            "__________________________________________________________________________________________________\n",
            "time_distributed_2 (TimeDistrib (None, 1, 48)        4848        lstm_5[0][0]                     \n",
            "==================================================================================================\n",
            "Total params: 144,848\n",
            "Trainable params: 144,848\n",
            "Non-trainable params: 0\n",
            "__________________________________________________________________________________________________\n"
          ],
          "name": "stdout"
        }
      ]
    },
    {
      "cell_type": "code",
      "metadata": {
        "id": "TaQtzMOJ4xxH"
      },
      "source": [
        "reduce_lr = tf.keras.callbacks.LearningRateScheduler(lambda x: 1e-3 * 0.90 ** x)\n",
        "model_e1d1.compile(optimizer=tf.keras.optimizers.Adam(), loss=tf.keras.losses.Huber())\n",
        "history_e1d1=model_e1d1.fit(X_train,y_train,epochs=25,validation_data=(X_test,y_test),batch_size=32,verbose=0,callbacks=[reduce_lr])"
      ],
      "execution_count": null,
      "outputs": []
    },
    {
      "cell_type": "code",
      "metadata": {
        "id": "C9Db6EHzSgmT"
      },
      "source": [
        "pred_e1d1=model_e1d1.predict(X_test)"
      ],
      "execution_count": null,
      "outputs": []
    },
    {
      "cell_type": "code",
      "metadata": {
        "colab": {
          "base_uri": "https://localhost:8080/"
        },
        "id": "6cV_-Gtl5We8",
        "outputId": "a2e655ac-1d8b-43c3-9ea6-499fa8c871db"
      },
      "source": [
        "print(pred_e1d1[0])"
      ],
      "execution_count": null,
      "outputs": [
        {
          "output_type": "stream",
          "text": [
            "[[4.1734745e+01 4.3129295e+01 4.0654800e+01 1.2863489e+01 1.1888101e-01\n",
            "  6.3148184e+00 1.1900096e+01 9.5278292e+00 1.4840310e+01 2.3716507e+00\n",
            "  1.4732517e+00 1.2888451e-01 2.5965430e-02 4.2996292e+01 4.2421227e+01\n",
            "  4.3552860e+01 2.4625964e+00 4.3545914e+01 4.1974079e+01 4.0633976e+01\n",
            "  4.3304276e+01 4.3799389e+01 4.3162777e+01 4.2306080e+01 4.1181667e+01\n",
            "  4.2532051e+01 4.3621494e+01 4.3407742e+01 4.0777336e+01 4.3231487e+01\n",
            "  4.2919220e+01 4.2446232e+01 4.2245571e+01 4.0949406e+01 4.1688931e+01\n",
            "  4.1582069e+01 3.4124012e+01 2.9990427e+01 3.6432755e+01 2.8895042e+01\n",
            "  3.1761101e+01 3.6235302e+01 3.3810612e+01 3.3951614e+01 3.4363174e+01\n",
            "  3.3705082e+01 3.5546787e+01 3.5384823e+01]]\n"
          ],
          "name": "stdout"
        }
      ]
    },
    {
      "cell_type": "code",
      "metadata": {
        "colab": {
          "base_uri": "https://localhost:8080/"
        },
        "id": "z4rooHZDSiou",
        "outputId": "0ed501c8-b952-4da8-9b23-e577d432b3d8"
      },
      "source": [
        "import pickle\n",
        "loaded_model = pickle.load(open('random_forest.sav', 'rb'))\n",
        "for i in range(0,len(pred_e1d1)):\n",
        "  print(loaded_model.predict(pred_e1d1[i]))\n"
      ],
      "execution_count": null,
      "outputs": [
        {
          "output_type": "stream",
          "text": [
            "['NORMAL']\n",
            "['NORMAL']\n",
            "['NORMAL']\n",
            "['NORMAL']\n",
            "['NORMAL']\n",
            "['NORMAL']\n",
            "['NORMAL']\n",
            "['NORMAL']\n",
            "['NORMAL']\n",
            "['NORMAL']\n",
            "['NORMAL']\n",
            "['NORMAL']\n",
            "['NORMAL']\n",
            "['NORMAL']\n",
            "['NORMAL']\n",
            "['NORMAL']\n",
            "['NORMAL']\n",
            "['NORMAL']\n",
            "['NORMAL']\n",
            "['NORMAL']\n",
            "['NORMAL']\n",
            "['NORMAL']\n",
            "['NORMAL']\n",
            "['NORMAL']\n",
            "['NORMAL']\n",
            "['NORMAL']\n",
            "['NORMAL']\n",
            "['NORMAL']\n",
            "['NORMAL']\n",
            "['NORMAL']\n",
            "['NORMAL']\n",
            "['NORMAL']\n",
            "['NORMAL']\n",
            "['NORMAL']\n",
            "['NORMAL']\n",
            "['NORMAL']\n",
            "['NORMAL']\n",
            "['NORMAL']\n",
            "['NORMAL']\n",
            "['NORMAL']\n",
            "['NORMAL']\n",
            "['NORMAL']\n",
            "['NORMAL']\n",
            "['NORMAL']\n",
            "['NORMAL']\n",
            "['NORMAL']\n",
            "['NORMAL']\n",
            "['NORMAL']\n",
            "['NORMAL']\n",
            "['NORMAL']\n",
            "['NORMAL']\n",
            "['NORMAL']\n",
            "['NORMAL']\n",
            "['NORMAL']\n",
            "['NORMAL']\n",
            "['NORMAL']\n",
            "['NORMAL']\n",
            "['NORMAL']\n",
            "['NORMAL']\n",
            "['NORMAL']\n",
            "['NORMAL']\n",
            "['NORMAL']\n",
            "['NORMAL']\n",
            "['NORMAL']\n",
            "['NORMAL']\n",
            "['NORMAL']\n",
            "['NORMAL']\n",
            "['NORMAL']\n",
            "['NORMAL']\n",
            "['NORMAL']\n",
            "['NORMAL']\n",
            "['NORMAL']\n",
            "['NORMAL']\n",
            "['NORMAL']\n",
            "['NORMAL']\n",
            "['NORMAL']\n",
            "['NORMAL']\n",
            "['NORMAL']\n",
            "['NORMAL']\n",
            "['NORMAL']\n",
            "['NORMAL']\n",
            "['NORMAL']\n",
            "['NORMAL']\n",
            "['NORMAL']\n",
            "['NORMAL']\n",
            "['NORMAL']\n",
            "['NORMAL']\n",
            "['NORMAL']\n",
            "['NORMAL']\n",
            "['NORMAL']\n",
            "['NORMAL']\n",
            "['NORMAL']\n",
            "['NORMAL']\n",
            "['NORMAL']\n",
            "['NORMAL']\n",
            "['NORMAL']\n",
            "['NORMAL']\n",
            "['NORMAL']\n",
            "['NORMAL']\n",
            "['NORMAL']\n",
            "['NORMAL']\n",
            "['NORMAL']\n",
            "['NORMAL']\n",
            "['NORMAL']\n",
            "['NORMAL']\n",
            "['NORMAL']\n",
            "['NORMAL']\n",
            "['NORMAL']\n",
            "['NORMAL']\n",
            "['NORMAL']\n",
            "['NORMAL']\n",
            "['NORMAL']\n",
            "['NORMAL']\n",
            "['NORMAL']\n",
            "['NORMAL']\n",
            "['NORMAL']\n",
            "['NORMAL']\n",
            "['NORMAL']\n",
            "['NORMAL']\n",
            "['NORMAL']\n",
            "['NORMAL']\n",
            "['NORMAL']\n",
            "['NORMAL']\n",
            "['NORMAL']\n",
            "['NORMAL']\n",
            "['NORMAL']\n",
            "['NORMAL']\n",
            "['NORMAL']\n",
            "['NORMAL']\n",
            "['NORMAL']\n",
            "['NORMAL']\n",
            "['NORMAL']\n",
            "['NORMAL']\n",
            "['NORMAL']\n",
            "['NORMAL']\n",
            "['NORMAL']\n",
            "['NORMAL']\n",
            "['NORMAL']\n",
            "['NORMAL']\n",
            "['NORMAL']\n",
            "['NORMAL']\n",
            "['NORMAL']\n",
            "['NORMAL']\n",
            "['NORMAL']\n",
            "['NORMAL']\n",
            "['NORMAL']\n",
            "['NORMAL']\n",
            "['NORMAL']\n",
            "['NORMAL']\n",
            "['NORMAL']\n",
            "['NORMAL']\n",
            "['NORMAL']\n",
            "['NORMAL']\n",
            "['NORMAL']\n",
            "['NORMAL']\n",
            "['NORMAL']\n",
            "['NORMAL']\n",
            "['NORMAL']\n",
            "['NORMAL']\n",
            "['NORMAL']\n",
            "['NORMAL']\n",
            "['NORMAL']\n",
            "['NORMAL']\n",
            "['NORMAL']\n",
            "['NORMAL']\n",
            "['NORMAL']\n",
            "['NORMAL']\n",
            "['NORMAL']\n",
            "['NORMAL']\n",
            "['NORMAL']\n",
            "['NORMAL']\n",
            "['NORMAL']\n",
            "['NORMAL']\n",
            "['NORMAL']\n",
            "['NORMAL']\n",
            "['NORMAL']\n",
            "['NORMAL']\n",
            "['NORMAL']\n",
            "['NORMAL']\n",
            "['NORMAL']\n",
            "['NORMAL']\n",
            "['NORMAL']\n",
            "['NORMAL']\n",
            "['NORMAL']\n",
            "['NORMAL']\n",
            "['NORMAL']\n",
            "['NORMAL']\n",
            "['NORMAL']\n",
            "['NORMAL']\n",
            "['NORMAL']\n",
            "['NORMAL']\n",
            "['NORMAL']\n",
            "['NORMAL']\n",
            "['NORMAL']\n",
            "['NORMAL']\n",
            "['NORMAL']\n",
            "['NORMAL']\n",
            "['NORMAL']\n",
            "['NORMAL']\n",
            "['NORMAL']\n",
            "['NORMAL']\n",
            "['NORMAL']\n",
            "['NORMAL']\n",
            "['NORMAL']\n",
            "['NORMAL']\n",
            "['NORMAL']\n",
            "['NORMAL']\n",
            "['NORMAL']\n",
            "['NORMAL']\n",
            "['NORMAL']\n",
            "['NORMAL']\n",
            "['NORMAL']\n",
            "['NORMAL']\n",
            "['NORMAL']\n",
            "['NORMAL']\n",
            "['NORMAL']\n",
            "['NORMAL']\n",
            "['NORMAL']\n",
            "['NORMAL']\n",
            "['NORMAL']\n",
            "['NORMAL']\n",
            "['NORMAL']\n",
            "['NORMAL']\n",
            "['NORMAL']\n",
            "['NORMAL']\n",
            "['NORMAL']\n",
            "['NORMAL']\n",
            "['NORMAL']\n",
            "['NORMAL']\n",
            "['NORMAL']\n",
            "['NORMAL']\n",
            "['NORMAL']\n",
            "['NORMAL']\n",
            "['NORMAL']\n",
            "['NORMAL']\n",
            "['NORMAL']\n",
            "['NORMAL']\n",
            "['NORMAL']\n",
            "['NORMAL']\n",
            "['NORMAL']\n",
            "['NORMAL']\n",
            "['NORMAL']\n",
            "['NORMAL']\n",
            "['NORMAL']\n",
            "['NORMAL']\n",
            "['NORMAL']\n",
            "['NORMAL']\n",
            "['NORMAL']\n",
            "['NORMAL']\n",
            "['NORMAL']\n",
            "['NORMAL']\n",
            "['NORMAL']\n",
            "['NORMAL']\n",
            "['NORMAL']\n",
            "['NORMAL']\n",
            "['NORMAL']\n",
            "['NORMAL']\n",
            "['NORMAL']\n",
            "['NORMAL']\n",
            "['NORMAL']\n",
            "['NORMAL']\n",
            "['NORMAL']\n",
            "['NORMAL']\n",
            "['NORMAL']\n",
            "['NORMAL']\n",
            "['NORMAL']\n",
            "['NORMAL']\n",
            "['NORMAL']\n",
            "['NORMAL']\n",
            "['NORMAL']\n",
            "['NORMAL']\n",
            "['NORMAL']\n",
            "['NORMAL']\n",
            "['NORMAL']\n",
            "['NORMAL']\n",
            "['NORMAL']\n",
            "['NORMAL']\n",
            "['NORMAL']\n",
            "['NORMAL']\n",
            "['NORMAL']\n",
            "['NORMAL']\n",
            "['NORMAL']\n",
            "['NORMAL']\n",
            "['NORMAL']\n",
            "['NORMAL']\n",
            "['NORMAL']\n",
            "['NORMAL']\n",
            "['NORMAL']\n",
            "['NORMAL']\n",
            "['NORMAL']\n",
            "['NORMAL']\n",
            "['NORMAL']\n",
            "['NORMAL']\n",
            "['NORMAL']\n",
            "['NORMAL']\n",
            "['NORMAL']\n",
            "['NORMAL']\n",
            "['NORMAL']\n",
            "['NORMAL']\n",
            "['NORMAL']\n",
            "['NORMAL']\n",
            "['NORMAL']\n",
            "['NORMAL']\n",
            "['NORMAL']\n",
            "['NORMAL']\n",
            "['NORMAL']\n",
            "['NORMAL']\n",
            "['NORMAL']\n",
            "['NORMAL']\n",
            "['NORMAL']\n",
            "['NORMAL']\n",
            "['NORMAL']\n",
            "['NORMAL']\n",
            "['NORMAL']\n",
            "['NORMAL']\n",
            "['NORMAL']\n",
            "['NORMAL']\n",
            "['NORMAL']\n",
            "['NORMAL']\n",
            "['NORMAL']\n",
            "['NORMAL']\n",
            "['NORMAL']\n",
            "['NORMAL']\n",
            "['NORMAL']\n",
            "['NORMAL']\n",
            "['NORMAL']\n",
            "['NORMAL']\n",
            "['NORMAL']\n",
            "['NORMAL']\n",
            "['NORMAL']\n",
            "['NORMAL']\n",
            "['NORMAL']\n",
            "['NORMAL']\n",
            "['NORMAL']\n",
            "['NORMAL']\n",
            "['NORMAL']\n",
            "['NORMAL']\n",
            "['NORMAL']\n",
            "['NORMAL']\n",
            "['NORMAL']\n",
            "['NORMAL']\n",
            "['NORMAL']\n",
            "['NORMAL']\n",
            "['NORMAL']\n",
            "['NORMAL']\n",
            "['NORMAL']\n",
            "['NORMAL']\n",
            "['NORMAL']\n",
            "['NORMAL']\n",
            "['NORMAL']\n",
            "['NORMAL']\n",
            "['NORMAL']\n",
            "['NORMAL']\n",
            "['NORMAL']\n",
            "['NORMAL']\n",
            "['NORMAL']\n",
            "['NORMAL']\n",
            "['NORMAL']\n",
            "['NORMAL']\n",
            "['NORMAL']\n",
            "['NORMAL']\n",
            "['NORMAL']\n",
            "['NORMAL']\n",
            "['NORMAL']\n",
            "['NORMAL']\n",
            "['NORMAL']\n",
            "['NORMAL']\n",
            "['NORMAL']\n",
            "['NORMAL']\n",
            "['NORMAL']\n",
            "['NORMAL']\n",
            "['NORMAL']\n",
            "['NORMAL']\n",
            "['NORMAL']\n",
            "['NORMAL']\n",
            "['NORMAL']\n",
            "['NORMAL']\n",
            "['NORMAL']\n",
            "['NORMAL']\n",
            "['NORMAL']\n",
            "['NORMAL']\n",
            "['NORMAL']\n",
            "['NORMAL']\n",
            "['NORMAL']\n",
            "['NORMAL']\n",
            "['NORMAL']\n",
            "['NORMAL']\n",
            "['NORMAL']\n",
            "['NORMAL']\n",
            "['NORMAL']\n",
            "['NORMAL']\n",
            "['NORMAL']\n",
            "['NORMAL']\n",
            "['NORMAL']\n",
            "['NORMAL']\n",
            "['NORMAL']\n",
            "['NORMAL']\n",
            "['NORMAL']\n",
            "['NORMAL']\n",
            "['NORMAL']\n",
            "['NORMAL']\n",
            "['NORMAL']\n",
            "['NORMAL']\n",
            "['NORMAL']\n",
            "['NORMAL']\n",
            "['NORMAL']\n",
            "['NORMAL']\n",
            "['NORMAL']\n",
            "['NORMAL']\n",
            "['NORMAL']\n",
            "['NORMAL']\n",
            "['NORMAL']\n",
            "['NORMAL']\n",
            "['NORMAL']\n",
            "['NORMAL']\n",
            "['NORMAL']\n",
            "['NORMAL']\n",
            "['NORMAL']\n",
            "['NORMAL']\n",
            "['NORMAL']\n",
            "['NORMAL']\n",
            "['NORMAL']\n",
            "['NORMAL']\n",
            "['NORMAL']\n",
            "['NORMAL']\n",
            "['NORMAL']\n",
            "['NORMAL']\n",
            "['NORMAL']\n",
            "['NORMAL']\n",
            "['NORMAL']\n",
            "['NORMAL']\n",
            "['NORMAL']\n",
            "['NORMAL']\n",
            "['NORMAL']\n",
            "['NORMAL']\n",
            "['NORMAL']\n",
            "['NORMAL']\n",
            "['NORMAL']\n",
            "['NORMAL']\n",
            "['NORMAL']\n",
            "['NORMAL']\n",
            "['NORMAL']\n",
            "['NORMAL']\n",
            "['NORMAL']\n",
            "['NORMAL']\n",
            "['NORMAL']\n",
            "['NORMAL']\n",
            "['NORMAL']\n",
            "['NORMAL']\n",
            "['NORMAL']\n",
            "['NORMAL']\n",
            "['NORMAL']\n",
            "['NORMAL']\n",
            "['NORMAL']\n",
            "['NORMAL']\n",
            "['NORMAL']\n",
            "['NORMAL']\n",
            "['NORMAL']\n",
            "['NORMAL']\n",
            "['NORMAL']\n",
            "['NORMAL']\n",
            "['NORMAL']\n",
            "['NORMAL']\n",
            "['NORMAL']\n",
            "['NORMAL']\n",
            "['NORMAL']\n",
            "['NORMAL']\n",
            "['NORMAL']\n",
            "['NORMAL']\n",
            "['NORMAL']\n",
            "['NORMAL']\n",
            "['NORMAL']\n",
            "['NORMAL']\n",
            "['NORMAL']\n",
            "['NORMAL']\n",
            "['NORMAL']\n",
            "['NORMAL']\n",
            "['NORMAL']\n",
            "['NORMAL']\n",
            "['NORMAL']\n",
            "['NORMAL']\n",
            "['NORMAL']\n",
            "['NORMAL']\n",
            "['NORMAL']\n",
            "['NORMAL']\n",
            "['NORMAL']\n",
            "['NORMAL']\n",
            "['NORMAL']\n",
            "['NORMAL']\n",
            "['NORMAL']\n",
            "['NORMAL']\n",
            "['NORMAL']\n",
            "['NORMAL']\n",
            "['NORMAL']\n",
            "['NORMAL']\n"
          ],
          "name": "stdout"
        }
      ]
    }
  ]
}